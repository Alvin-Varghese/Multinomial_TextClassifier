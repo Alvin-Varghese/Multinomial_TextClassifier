{
  "nbformat": 4,
  "nbformat_minor": 0,
  "metadata": {
    "kernelspec": {
      "display_name": "Python 3",
      "language": "python",
      "name": "python3"
    },
    "language_info": {
      "codemirror_mode": {
        "name": "ipython",
        "version": 3
      },
      "file_extension": ".py",
      "mimetype": "text/x-python",
      "name": "python",
      "nbconvert_exporter": "python",
      "pygments_lexer": "ipython3",
      "version": "3.7.6"
    },
    "colab": {
      "name": "KnightML.ipynb",
      "provenance": [],
      "collapsed_sections": [],
      "machine_shape": "hm"
    }
  },
  "cells": [
    {
      "cell_type": "code",
      "metadata": {
        "id": "yo5xHVPoB_gi",
        "colab_type": "code",
        "colab": {
          "base_uri": "https://localhost:8080/",
          "height": 71
        },
        "outputId": "04977771-a1f6-4d20-b8ab-0d6d25e138cd"
      },
      "source": [
        "\n",
        "## IMPORTING THE LIBRARIES\n",
        "import numpy as np  # linear algebra\n",
        "import pandas as pd  # Handling dataframes \n",
        "import seaborn as sns #For plotting\n",
        "import matplotlib.pyplot as plt\n",
        "#from datetime import datetime #For fancy timestamps"
      ],
      "execution_count": 1,
      "outputs": [
        {
          "output_type": "stream",
          "text": [
            "/usr/local/lib/python3.6/dist-packages/statsmodels/tools/_testing.py:19: FutureWarning: pandas.util.testing is deprecated. Use the functions in the public API at pandas.testing instead.\n",
            "  import pandas.util.testing as tm\n"
          ],
          "name": "stderr"
        }
      ]
    },
    {
      "cell_type": "code",
      "metadata": {
        "id": "KhBbwrbKB_gq",
        "colab_type": "code",
        "colab": {
          "resources": {
            "http://localhost:8080/nbextensions/google.colab/files.js": {
              "data": "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",
              "ok": true,
              "headers": [
                [
                  "content-type",
                  "application/javascript"
                ]
              ],
              "status": 200,
              "status_text": ""
            }
          },
          "base_uri": "https://localhost:8080/",
          "height": 397
        },
        "outputId": "15487c14-7b09-40da-8a6c-392678a561ae"
      },
      "source": [
        "#LOADING THE DATASET\n",
        "\n",
        "#data_wine=pd.read_csv('C:/Users/Varghese/Desktop/Code/Knight ML Assignment/Data/train.csv')\n",
        "from google.colab import files\n",
        "uploaded = files.upload()\n",
        "import io\n",
        "data_wine = pd.read_csv(io.BytesIO(uploaded['train.csv']))\n",
        "data_wine.head()"
      ],
      "execution_count": 3,
      "outputs": [
        {
          "output_type": "display_data",
          "data": {
            "text/html": [
              "\n",
              "     <input type=\"file\" id=\"files-e2e09aa9-5599-4d63-90ed-fffde0dd7619\" name=\"files[]\" multiple disabled />\n",
              "     <output id=\"result-e2e09aa9-5599-4d63-90ed-fffde0dd7619\">\n",
              "      Upload widget is only available when the cell has been executed in the\n",
              "      current browser session. Please rerun this cell to enable.\n",
              "      </output>\n",
              "      <script src=\"/nbextensions/google.colab/files.js\"></script> "
            ],
            "text/plain": [
              "<IPython.core.display.HTML object>"
            ]
          },
          "metadata": {
            "tags": []
          }
        },
        {
          "output_type": "stream",
          "text": [
            "Saving train.csv to train (5).csv\n"
          ],
          "name": "stdout"
        },
        {
          "output_type": "execute_result",
          "data": {
            "text/html": [
              "<div>\n",
              "<style scoped>\n",
              "    .dataframe tbody tr th:only-of-type {\n",
              "        vertical-align: middle;\n",
              "    }\n",
              "\n",
              "    .dataframe tbody tr th {\n",
              "        vertical-align: top;\n",
              "    }\n",
              "\n",
              "    .dataframe thead th {\n",
              "        text-align: right;\n",
              "    }\n",
              "</style>\n",
              "<table border=\"1\" class=\"dataframe\">\n",
              "  <thead>\n",
              "    <tr style=\"text-align: right;\">\n",
              "      <th></th>\n",
              "      <th>user_name</th>\n",
              "      <th>country</th>\n",
              "      <th>review_title</th>\n",
              "      <th>review_description</th>\n",
              "      <th>designation</th>\n",
              "      <th>points</th>\n",
              "      <th>price</th>\n",
              "      <th>province</th>\n",
              "      <th>region_1</th>\n",
              "      <th>region_2</th>\n",
              "      <th>winery</th>\n",
              "      <th>variety</th>\n",
              "    </tr>\n",
              "  </thead>\n",
              "  <tbody>\n",
              "    <tr>\n",
              "      <th>0</th>\n",
              "      <td>NaN</td>\n",
              "      <td>Australia</td>\n",
              "      <td>Andrew Peace 2007 Peace Family Vineyard Chardo...</td>\n",
              "      <td>Classic Chardonnay aromas of apple, pear and h...</td>\n",
              "      <td>Peace Family Vineyard</td>\n",
              "      <td>83</td>\n",
              "      <td>10.0</td>\n",
              "      <td>Australia Other</td>\n",
              "      <td>South Eastern Australia</td>\n",
              "      <td>NaN</td>\n",
              "      <td>Andrew Peace</td>\n",
              "      <td>Chardonnay</td>\n",
              "    </tr>\n",
              "    <tr>\n",
              "      <th>1</th>\n",
              "      <td>@wawinereport</td>\n",
              "      <td>US</td>\n",
              "      <td>North by Northwest 2014 Red (Columbia Valley (...</td>\n",
              "      <td>This wine is near equal parts Syrah and Merlot...</td>\n",
              "      <td>NaN</td>\n",
              "      <td>89</td>\n",
              "      <td>15.0</td>\n",
              "      <td>Washington</td>\n",
              "      <td>Columbia Valley (WA)</td>\n",
              "      <td>Columbia Valley</td>\n",
              "      <td>North by Northwest</td>\n",
              "      <td>Red Blend</td>\n",
              "    </tr>\n",
              "    <tr>\n",
              "      <th>2</th>\n",
              "      <td>NaN</td>\n",
              "      <td>Italy</td>\n",
              "      <td>Renato Ratti 2007 Conca  (Barolo)</td>\n",
              "      <td>Barolo Conca opens with inky dark concentratio...</td>\n",
              "      <td>Conca</td>\n",
              "      <td>94</td>\n",
              "      <td>80.0</td>\n",
              "      <td>Piedmont</td>\n",
              "      <td>Barolo</td>\n",
              "      <td>NaN</td>\n",
              "      <td>Renato Ratti</td>\n",
              "      <td>Nebbiolo</td>\n",
              "    </tr>\n",
              "    <tr>\n",
              "      <th>3</th>\n",
              "      <td>@vossroger</td>\n",
              "      <td>France</td>\n",
              "      <td>Domaine l'Ancienne Cure 2010 L'Abbaye White (B...</td>\n",
              "      <td>It's impressive what a small addition of Sauvi...</td>\n",
              "      <td>L'Abbaye</td>\n",
              "      <td>87</td>\n",
              "      <td>22.0</td>\n",
              "      <td>Southwest France</td>\n",
              "      <td>Bergerac Sec</td>\n",
              "      <td>NaN</td>\n",
              "      <td>Domaine l'Ancienne Cure</td>\n",
              "      <td>Bordeaux-style White Blend</td>\n",
              "    </tr>\n",
              "    <tr>\n",
              "      <th>4</th>\n",
              "      <td>@vossroger</td>\n",
              "      <td>France</td>\n",
              "      <td>Château du Cèdre 2012 Le Cèdre Vintage Malbec ...</td>\n",
              "      <td>This ripe, sweet wine is rich and full of drie...</td>\n",
              "      <td>Le Cèdre Vintage</td>\n",
              "      <td>88</td>\n",
              "      <td>33.0</td>\n",
              "      <td>France Other</td>\n",
              "      <td>Vin de Liqueur</td>\n",
              "      <td>NaN</td>\n",
              "      <td>Château du Cèdre</td>\n",
              "      <td>Malbec</td>\n",
              "    </tr>\n",
              "  </tbody>\n",
              "</table>\n",
              "</div>"
            ],
            "text/plain": [
              "       user_name  ...                     variety\n",
              "0            NaN  ...                  Chardonnay\n",
              "1  @wawinereport  ...                   Red Blend\n",
              "2            NaN  ...                    Nebbiolo\n",
              "3     @vossroger  ...  Bordeaux-style White Blend\n",
              "4     @vossroger  ...                      Malbec\n",
              "\n",
              "[5 rows x 12 columns]"
            ]
          },
          "metadata": {
            "tags": []
          },
          "execution_count": 3
        }
      ]
    },
    {
      "cell_type": "code",
      "metadata": {
        "id": "fKb-I-ytB_gu",
        "colab_type": "code",
        "colab": {
          "base_uri": "https://localhost:8080/",
          "height": 34
        },
        "outputId": "21b79f58-1ae3-40a4-c4f1-b7b9e45bebe8"
      },
      "source": [
        "data_wine.shape"
      ],
      "execution_count": 4,
      "outputs": [
        {
          "output_type": "execute_result",
          "data": {
            "text/plain": [
              "(82657, 12)"
            ]
          },
          "metadata": {
            "tags": []
          },
          "execution_count": 4
        }
      ]
    },
    {
      "cell_type": "code",
      "metadata": {
        "id": "Q3oPA05SB_gz",
        "colab_type": "code",
        "colab": {
          "base_uri": "https://localhost:8080/",
          "height": 419
        },
        "outputId": "0f082a6b-fd2b-4b05-cb01-d07dff84d8db"
      },
      "source": [
        "#CREATING A NEW DATASET (df1) WITH JUST REVIEW DESCRIPTION AND VARIETY NAME; FOR A PURELY TEXT BASED CLASSIFIER\n",
        "df1 = data_wine[['review_description', 'variety']].copy()\n",
        "df1"
      ],
      "execution_count": 5,
      "outputs": [
        {
          "output_type": "execute_result",
          "data": {
            "text/html": [
              "<div>\n",
              "<style scoped>\n",
              "    .dataframe tbody tr th:only-of-type {\n",
              "        vertical-align: middle;\n",
              "    }\n",
              "\n",
              "    .dataframe tbody tr th {\n",
              "        vertical-align: top;\n",
              "    }\n",
              "\n",
              "    .dataframe thead th {\n",
              "        text-align: right;\n",
              "    }\n",
              "</style>\n",
              "<table border=\"1\" class=\"dataframe\">\n",
              "  <thead>\n",
              "    <tr style=\"text-align: right;\">\n",
              "      <th></th>\n",
              "      <th>review_description</th>\n",
              "      <th>variety</th>\n",
              "    </tr>\n",
              "  </thead>\n",
              "  <tbody>\n",
              "    <tr>\n",
              "      <th>0</th>\n",
              "      <td>Classic Chardonnay aromas of apple, pear and h...</td>\n",
              "      <td>Chardonnay</td>\n",
              "    </tr>\n",
              "    <tr>\n",
              "      <th>1</th>\n",
              "      <td>This wine is near equal parts Syrah and Merlot...</td>\n",
              "      <td>Red Blend</td>\n",
              "    </tr>\n",
              "    <tr>\n",
              "      <th>2</th>\n",
              "      <td>Barolo Conca opens with inky dark concentratio...</td>\n",
              "      <td>Nebbiolo</td>\n",
              "    </tr>\n",
              "    <tr>\n",
              "      <th>3</th>\n",
              "      <td>It's impressive what a small addition of Sauvi...</td>\n",
              "      <td>Bordeaux-style White Blend</td>\n",
              "    </tr>\n",
              "    <tr>\n",
              "      <th>4</th>\n",
              "      <td>This ripe, sweet wine is rich and full of drie...</td>\n",
              "      <td>Malbec</td>\n",
              "    </tr>\n",
              "    <tr>\n",
              "      <th>...</th>\n",
              "      <td>...</td>\n",
              "      <td>...</td>\n",
              "    </tr>\n",
              "    <tr>\n",
              "      <th>82652</th>\n",
              "      <td>Hot earth, baked cherry and mild vanilla aroma...</td>\n",
              "      <td>Tempranillo</td>\n",
              "    </tr>\n",
              "    <tr>\n",
              "      <th>82653</th>\n",
              "      <td>Pungent, high-pitched notes of turmeric and dr...</td>\n",
              "      <td>Cabernet Sauvignon</td>\n",
              "    </tr>\n",
              "    <tr>\n",
              "      <th>82654</th>\n",
              "      <td>This is a wine that's not just lively and frui...</td>\n",
              "      <td>Gamay</td>\n",
              "    </tr>\n",
              "    <tr>\n",
              "      <th>82655</th>\n",
              "      <td>An impressive wine, it already shows signs of ...</td>\n",
              "      <td>Bordeaux-style Red Blend</td>\n",
              "    </tr>\n",
              "    <tr>\n",
              "      <th>82656</th>\n",
              "      <td>A big, rich, vital Cabernet with immediate att...</td>\n",
              "      <td>Cabernet Sauvignon</td>\n",
              "    </tr>\n",
              "  </tbody>\n",
              "</table>\n",
              "<p>82657 rows × 2 columns</p>\n",
              "</div>"
            ],
            "text/plain": [
              "                                      review_description                     variety\n",
              "0      Classic Chardonnay aromas of apple, pear and h...                  Chardonnay\n",
              "1      This wine is near equal parts Syrah and Merlot...                   Red Blend\n",
              "2      Barolo Conca opens with inky dark concentratio...                    Nebbiolo\n",
              "3      It's impressive what a small addition of Sauvi...  Bordeaux-style White Blend\n",
              "4      This ripe, sweet wine is rich and full of drie...                      Malbec\n",
              "...                                                  ...                         ...\n",
              "82652  Hot earth, baked cherry and mild vanilla aroma...                 Tempranillo\n",
              "82653  Pungent, high-pitched notes of turmeric and dr...          Cabernet Sauvignon\n",
              "82654  This is a wine that's not just lively and frui...                       Gamay\n",
              "82655  An impressive wine, it already shows signs of ...    Bordeaux-style Red Blend\n",
              "82656  A big, rich, vital Cabernet with immediate att...          Cabernet Sauvignon\n",
              "\n",
              "[82657 rows x 2 columns]"
            ]
          },
          "metadata": {
            "tags": []
          },
          "execution_count": 5
        }
      ]
    },
    {
      "cell_type": "code",
      "metadata": {
        "id": "HonDivhuB_g8",
        "colab_type": "code",
        "colab": {
          "base_uri": "https://localhost:8080/",
          "height": 170
        },
        "outputId": "4dff3423-e13d-4330-d9ff-eb5f68ee638a"
      },
      "source": [
        "#VIEWING DTYPES, AND NULL-VALUES IN THE DATASET\n",
        "df1.info()"
      ],
      "execution_count": 6,
      "outputs": [
        {
          "output_type": "stream",
          "text": [
            "<class 'pandas.core.frame.DataFrame'>\n",
            "RangeIndex: 82657 entries, 0 to 82656\n",
            "Data columns (total 2 columns):\n",
            " #   Column              Non-Null Count  Dtype \n",
            "---  ------              --------------  ----- \n",
            " 0   review_description  82657 non-null  object\n",
            " 1   variety             82657 non-null  object\n",
            "dtypes: object(2)\n",
            "memory usage: 1.3+ MB\n"
          ],
          "name": "stdout"
        }
      ]
    },
    {
      "cell_type": "code",
      "metadata": {
        "id": "OOiTcVCHB_hC",
        "colab_type": "code",
        "colab": {
          "base_uri": "https://localhost:8080/",
          "height": 419
        },
        "outputId": "19a9d5f0-3889-44fc-96a5-68b0ee04b4f2"
      },
      "source": [
        "#ADDING A NUMERICAL CATEGORY ID TO EACH OF THE VARIETY\n",
        "df1['category_id'] = df1['variety'].factorize()[0]\n",
        "category_id_df = df1[['variety', 'category_id']].drop_duplicates().sort_values('category_id')\n",
        "category_to_id = dict(category_id_df.values)\n",
        "id_to_category = dict(category_id_df[['category_id', 'variety']].values)\n",
        "df1"
      ],
      "execution_count": 7,
      "outputs": [
        {
          "output_type": "execute_result",
          "data": {
            "text/html": [
              "<div>\n",
              "<style scoped>\n",
              "    .dataframe tbody tr th:only-of-type {\n",
              "        vertical-align: middle;\n",
              "    }\n",
              "\n",
              "    .dataframe tbody tr th {\n",
              "        vertical-align: top;\n",
              "    }\n",
              "\n",
              "    .dataframe thead th {\n",
              "        text-align: right;\n",
              "    }\n",
              "</style>\n",
              "<table border=\"1\" class=\"dataframe\">\n",
              "  <thead>\n",
              "    <tr style=\"text-align: right;\">\n",
              "      <th></th>\n",
              "      <th>review_description</th>\n",
              "      <th>variety</th>\n",
              "      <th>category_id</th>\n",
              "    </tr>\n",
              "  </thead>\n",
              "  <tbody>\n",
              "    <tr>\n",
              "      <th>0</th>\n",
              "      <td>Classic Chardonnay aromas of apple, pear and h...</td>\n",
              "      <td>Chardonnay</td>\n",
              "      <td>0</td>\n",
              "    </tr>\n",
              "    <tr>\n",
              "      <th>1</th>\n",
              "      <td>This wine is near equal parts Syrah and Merlot...</td>\n",
              "      <td>Red Blend</td>\n",
              "      <td>1</td>\n",
              "    </tr>\n",
              "    <tr>\n",
              "      <th>2</th>\n",
              "      <td>Barolo Conca opens with inky dark concentratio...</td>\n",
              "      <td>Nebbiolo</td>\n",
              "      <td>2</td>\n",
              "    </tr>\n",
              "    <tr>\n",
              "      <th>3</th>\n",
              "      <td>It's impressive what a small addition of Sauvi...</td>\n",
              "      <td>Bordeaux-style White Blend</td>\n",
              "      <td>3</td>\n",
              "    </tr>\n",
              "    <tr>\n",
              "      <th>4</th>\n",
              "      <td>This ripe, sweet wine is rich and full of drie...</td>\n",
              "      <td>Malbec</td>\n",
              "      <td>4</td>\n",
              "    </tr>\n",
              "    <tr>\n",
              "      <th>...</th>\n",
              "      <td>...</td>\n",
              "      <td>...</td>\n",
              "      <td>...</td>\n",
              "    </tr>\n",
              "    <tr>\n",
              "      <th>82652</th>\n",
              "      <td>Hot earth, baked cherry and mild vanilla aroma...</td>\n",
              "      <td>Tempranillo</td>\n",
              "      <td>25</td>\n",
              "    </tr>\n",
              "    <tr>\n",
              "      <th>82653</th>\n",
              "      <td>Pungent, high-pitched notes of turmeric and dr...</td>\n",
              "      <td>Cabernet Sauvignon</td>\n",
              "      <td>5</td>\n",
              "    </tr>\n",
              "    <tr>\n",
              "      <th>82654</th>\n",
              "      <td>This is a wine that's not just lively and frui...</td>\n",
              "      <td>Gamay</td>\n",
              "      <td>9</td>\n",
              "    </tr>\n",
              "    <tr>\n",
              "      <th>82655</th>\n",
              "      <td>An impressive wine, it already shows signs of ...</td>\n",
              "      <td>Bordeaux-style Red Blend</td>\n",
              "      <td>11</td>\n",
              "    </tr>\n",
              "    <tr>\n",
              "      <th>82656</th>\n",
              "      <td>A big, rich, vital Cabernet with immediate att...</td>\n",
              "      <td>Cabernet Sauvignon</td>\n",
              "      <td>5</td>\n",
              "    </tr>\n",
              "  </tbody>\n",
              "</table>\n",
              "<p>82657 rows × 3 columns</p>\n",
              "</div>"
            ],
            "text/plain": [
              "                                      review_description  ... category_id\n",
              "0      Classic Chardonnay aromas of apple, pear and h...  ...           0\n",
              "1      This wine is near equal parts Syrah and Merlot...  ...           1\n",
              "2      Barolo Conca opens with inky dark concentratio...  ...           2\n",
              "3      It's impressive what a small addition of Sauvi...  ...           3\n",
              "4      This ripe, sweet wine is rich and full of drie...  ...           4\n",
              "...                                                  ...  ...         ...\n",
              "82652  Hot earth, baked cherry and mild vanilla aroma...  ...          25\n",
              "82653  Pungent, high-pitched notes of turmeric and dr...  ...           5\n",
              "82654  This is a wine that's not just lively and frui...  ...           9\n",
              "82655  An impressive wine, it already shows signs of ...  ...          11\n",
              "82656  A big, rich, vital Cabernet with immediate att...  ...           5\n",
              "\n",
              "[82657 rows x 3 columns]"
            ]
          },
          "metadata": {
            "tags": []
          },
          "execution_count": 7
        }
      ]
    },
    {
      "cell_type": "code",
      "metadata": {
        "id": "Th0hUPXJB_hL",
        "colab_type": "code",
        "colab": {
          "base_uri": "https://localhost:8080/",
          "height": 517
        },
        "outputId": "92c17227-8553-4b1a-f4fe-e4c7a57f0c3e"
      },
      "source": [
        "#PLOTTING THE DESCRIPTION BY VARIETY\n",
        "fig = plt.figure(figsize=(8,6))\n",
        "df1.groupby('variety').review_description.count().plot.bar(ylim=0)\n",
        "plt.show()"
      ],
      "execution_count": 8,
      "outputs": [
        {
          "output_type": "display_data",
          "data": {
            "image/png": "[encoded data removed]",
            "text/plain": [
              "<Figure size 576x432 with 1 Axes>"
            ]
          },
          "metadata": {
            "tags": [],
            "needs_background": "light"
          }
        }
      ]
    },
    {
      "cell_type": "code",
      "metadata": {
        "id": "Rym5TwXCB_hS",
        "colab_type": "code",
        "colab": {
          "base_uri": "https://localhost:8080/",
          "height": 34
        },
        "outputId": "7e144f68-d584-4ced-8fab-d657ec8296cd"
      },
      "source": [
        "# IMPORT Term Frequency, Inverse Document Frequency\n",
        "from sklearn.feature_extraction.text import TfidfVectorizer\n",
        "#Change min_df value to ≤ 10 for best results. WARNING: CONSUMES HIGH MEMORY\n",
        "tfidf = TfidfVectorizer(sublinear_tf=True, min_df=25, norm='l2', encoding='latin-1', ngram_range=(1, 2), stop_words='english')\n",
        "features = tfidf.fit_transform(df1.review_description).toarray()\n",
        "labels = df1.category_id\n",
        "features.shape"
      ],
      "execution_count": 11,
      "outputs": [
        {
          "output_type": "execute_result",
          "data": {
            "text/plain": [
              "(82657, 13600)"
            ]
          },
          "metadata": {
            "tags": []
          },
          "execution_count": 11
        }
      ]
    },
    {
      "cell_type": "code",
      "metadata": {
        "id": "OkeCie5jB_hW",
        "colab_type": "code",
        "colab": {
          "base_uri": "https://localhost:8080/",
          "height": 1000
        },
        "outputId": "87244ed2-3cff-4c68-8ff6-4ba01bb1be6a"
      },
      "source": [
        "from sklearn.feature_selection import chi2\n",
        "N = 2\n",
        "for variety, category_id in sorted(category_to_id.items()):\n",
        "  features_chi2 = chi2(features, labels == category_id)\n",
        "  indices = np.argsort(features_chi2[0])\n",
        "  feature_names = np.array(tfidf.get_feature_names())[indices]\n",
        "  unigrams = [v for v in feature_names if len(v.split(' ')) == 1]\n",
        "  bigrams = [v for v in feature_names if len(v.split(' ')) == 2]\n",
        "  print(\"# '{}':\".format(variety))\n",
        "  print(\"  . Most correlated unigrams:\\n. {}\".format('\\n. '.join(unigrams[-N:])))\n",
        "  print(\"  . Most correlated bigrams:\\n. {}\".format('\\n. '.join(bigrams[-N:])))"
      ],
      "execution_count": 12,
      "outputs": [
        {
          "output_type": "stream",
          "text": [
            "# 'Bordeaux-style Red Blend':\n",
            "  . Most correlated unigrams:\n",
            ". bordeaux\n",
            ". sample\n",
            "  . Most correlated bigrams:\n",
            ". black currant\n",
            ". barrel sample\n",
            "# 'Bordeaux-style White Blend':\n",
            "  . Most correlated unigrams:\n",
            ". sémillon\n",
            ". botrytis\n",
            "  . Most correlated bigrams:\n",
            ". herbaceous character\n",
            ". sémillon blend\n",
            "# 'Cabernet Franc':\n",
            "  . Most correlated unigrams:\n",
            ". cab\n",
            ". franc\n",
            "  . Most correlated bigrams:\n",
            ". cabernet franc\n",
            ". cab franc\n",
            "# 'Cabernet Sauvignon':\n",
            "  . Most correlated unigrams:\n",
            ". cassis\n",
            ". cab\n",
            "  . Most correlated bigrams:\n",
            ". flavors blackberries\n",
            ". 100 cabernet\n",
            "# 'Champagne Blend':\n",
            "  . Most correlated unigrams:\n",
            ". nonvintage\n",
            ". champagne\n",
            "  . Most correlated bigrams:\n",
            ". high dosage\n",
            ". dry champagne\n",
            "# 'Chardonnay':\n",
            "  . Most correlated unigrams:\n",
            ". buttered\n",
            ". chardonnay\n",
            "  . Most correlated bigrams:\n",
            ". tropical fruit\n",
            ". buttered toast\n",
            "# 'Gamay':\n",
            "  . Most correlated unigrams:\n",
            ". cru\n",
            ". beaujolais\n",
            "  . Most correlated bigrams:\n",
            ". cherry fruits\n",
            ". cru wine\n",
            "# 'Gewürztraminer':\n",
            "  . Most correlated unigrams:\n",
            ". lychee\n",
            ". gewürztraminer\n",
            "  . Most correlated bigrams:\n",
            ". lychee flavors\n",
            ". medium sweet\n",
            "# 'Grüner Veltliner':\n",
            "  . Most correlated unigrams:\n",
            ". screwcap\n",
            ". grüner\n",
            "  . Most correlated bigrams:\n",
            ". grüner veltliner\n",
            ". green pear\n",
            "# 'Malbec':\n",
            "  . Most correlated unigrams:\n",
            ". malbecs\n",
            ". malbec\n",
            "  . Most correlated bigrams:\n",
            ". plum berry\n",
            ". berry aromas\n",
            "# 'Merlot':\n",
            "  . Most correlated unigrams:\n",
            ". merlots\n",
            ". merlot\n",
            "  . Most correlated bigrams:\n",
            ". merlot dry\n",
            ". 100 merlot\n",
            "# 'Nebbiolo':\n",
            "  . Most correlated unigrams:\n",
            ". nebbiolo\n",
            ". barolo\n",
            "  . Most correlated bigrams:\n",
            ". expression nebbiolo\n",
            ". balsamic note\n",
            "# 'Pinot Grigio':\n",
            "  . Most correlated unigrams:\n",
            ". orchard\n",
            ". grigio\n",
            "  . Most correlated bigrams:\n",
            ". grigio offers\n",
            ". pinot grigio\n",
            "# 'Pinot Gris':\n",
            "  . Most correlated unigrams:\n",
            ". pear\n",
            ". gris\n",
            "  . Most correlated bigrams:\n",
            ". pear fruit\n",
            ". pinot gris\n",
            "# 'Pinot Noir':\n",
            "  . Most correlated unigrams:\n",
            ". noir\n",
            ". pinot\n",
            "  . Most correlated bigrams:\n",
            ". cherry fruit\n",
            ". pinot noir\n",
            "# 'Portuguese Red':\n",
            "  . Most correlated unigrams:\n",
            ". touriga\n",
            ". douro\n",
            "  . Most correlated bigrams:\n",
            ". tinta roriz\n",
            ". touriga nacional\n",
            "# 'Portuguese White':\n",
            "  . Most correlated unigrams:\n",
            ". vinho\n",
            ". arinto\n",
            "  . Most correlated bigrams:\n",
            ". fernão pires\n",
            ". vinho verde\n",
            "# 'Red Blend':\n",
            "  . Most correlated unigrams:\n",
            ". sangiovese\n",
            ". blend\n",
            "  . Most correlated bigrams:\n",
            ". blend sangiovese\n",
            ". cabernet sauvignon\n",
            "# 'Rhône-style Red Blend':\n",
            "  . Most correlated unigrams:\n",
            ". mourvèdre\n",
            ". grenache\n",
            "  . Most correlated bigrams:\n",
            ". grenache syrah\n",
            ". grenache 20\n",
            "# 'Riesling':\n",
            "  . Most correlated unigrams:\n",
            ". tangerine\n",
            ". riesling\n",
            "  . Most correlated bigrams:\n",
            ". lime acidity\n",
            ". dry riesling\n",
            "# 'Rosé':\n",
            "  . Most correlated unigrams:\n",
            ". pale\n",
            ". rosé\n",
            "  . Most correlated bigrams:\n",
            ". dry rosé\n",
            ". pink color\n",
            "# 'Sangiovese':\n",
            "  . Most correlated unigrams:\n",
            ". sangiovese\n",
            ". chianti\n",
            "  . Most correlated bigrams:\n",
            ". chianti classico\n",
            ". entirely sangiovese\n",
            "# 'Sauvignon Blanc':\n",
            "  . Most correlated unigrams:\n",
            ". gooseberry\n",
            ". blanc\n",
            "  . Most correlated bigrams:\n",
            ". passion fruit\n",
            ". sauvignon blanc\n",
            "# 'Sparkling Blend':\n",
            "  . Most correlated unigrams:\n",
            ". sparkler\n",
            ". sparkling\n",
            "  . Most correlated bigrams:\n",
            ". pinot nero\n",
            ". sparkling wine\n",
            "# 'Syrah':\n",
            "  . Most correlated unigrams:\n",
            ". syrahs\n",
            ". syrah\n",
            "  . Most correlated bigrams:\n",
            ". smoked meat\n",
            ". 100 syrah\n",
            "# 'Tempranillo':\n",
            "  . Most correlated unigrams:\n",
            ". tempranillo\n",
            ". rioja\n",
            "  . Most correlated bigrams:\n",
            ". del duero\n",
            ". ribera del\n",
            "# 'White Blend':\n",
            "  . Most correlated unigrams:\n",
            ". viura\n",
            ". viognier\n",
            "  . Most correlated bigrams:\n",
            ". chardonnay sauvignon\n",
            ". white blend\n",
            "# 'Zinfandel':\n",
            "  . Most correlated unigrams:\n",
            ". zinfandel\n",
            ". zin\n",
            "  . Most correlated bigrams:\n",
            ". briary brambly\n",
            ". high alcohol\n"
          ],
          "name": "stdout"
        }
      ]
    },
    {
      "cell_type": "code",
      "metadata": {
        "id": "2ok2TqFm1yjo",
        "colab_type": "code",
        "colab": {}
      },
      "source": [
        "from sklearn.model_selection import train_test_split\n",
        "from sklearn.feature_extraction.text import CountVectorizer\n",
        "from sklearn.feature_extraction.text import TfidfTransformer\n",
        "from sklearn.svm import LinearSVC\n",
        "X_train, X_test, y_train, y_test = train_test_split(df1['review_description'], df1['variety'], random_state = 42)\n",
        "count_vect = CountVectorizer()\n",
        "X_train_counts = count_vect.fit_transform(X_train)\n",
        "tfidf_transformer = TfidfTransformer()\n",
        "X_train_tfidf = tfidf_transformer.fit_transform(X_train_counts)\n",
        "clf = LinearSVC().fit(X_train_tfidf, y_train) #Changed to LinearSVC for better score"
      ],
      "execution_count": 0,
      "outputs": []
    },
    {
      "cell_type": "code",
      "metadata": {
        "id": "d_gBlV3TB_hf",
        "colab_type": "code",
        "colab": {
          "base_uri": "https://localhost:8080/",
          "height": 34
        },
        "outputId": "8149965f-8c6b-4a72-ce39-64f5a5dfa811"
      },
      "source": [
        "#PREDICTION 1\n",
        "print(clf.predict(count_vect.transform([\"This wine is near equal parts Syrah and Merlot with the balance Cabernet Sauvignon. Aromas of blue fruit, vanilla, cherry and herb lead to full-bodied pit-fruit flavors that bring a sense of deliciousness that is hard to resist.\"])))"
      ],
      "execution_count": 14,
      "outputs": [
        {
          "output_type": "stream",
          "text": [
            "['Red Blend']\n"
          ],
          "name": "stdout"
        }
      ]
    },
    {
      "cell_type": "code",
      "metadata": {
        "id": "TkGa2K_eB_hj",
        "colab_type": "code",
        "colab": {
          "base_uri": "https://localhost:8080/",
          "height": 80
        },
        "outputId": "73b9f1d0-394c-4cbe-e049-658cdb27a555"
      },
      "source": [
        "#CHECK 1\n",
        "df1[df1['review_description'] == \"This wine is near equal parts Syrah and Merlot with the balance Cabernet Sauvignon. Aromas of blue fruit, vanilla, cherry and herb lead to full-bodied pit-fruit flavors that bring a sense of deliciousness that is hard to resist.\"]"
      ],
      "execution_count": 15,
      "outputs": [
        {
          "output_type": "execute_result",
          "data": {
            "text/html": [
              "<div>\n",
              "<style scoped>\n",
              "    .dataframe tbody tr th:only-of-type {\n",
              "        vertical-align: middle;\n",
              "    }\n",
              "\n",
              "    .dataframe tbody tr th {\n",
              "        vertical-align: top;\n",
              "    }\n",
              "\n",
              "    .dataframe thead th {\n",
              "        text-align: right;\n",
              "    }\n",
              "</style>\n",
              "<table border=\"1\" class=\"dataframe\">\n",
              "  <thead>\n",
              "    <tr style=\"text-align: right;\">\n",
              "      <th></th>\n",
              "      <th>review_description</th>\n",
              "      <th>variety</th>\n",
              "      <th>category_id</th>\n",
              "    </tr>\n",
              "  </thead>\n",
              "  <tbody>\n",
              "    <tr>\n",
              "      <th>1</th>\n",
              "      <td>This wine is near equal parts Syrah and Merlot...</td>\n",
              "      <td>Red Blend</td>\n",
              "      <td>1</td>\n",
              "    </tr>\n",
              "  </tbody>\n",
              "</table>\n",
              "</div>"
            ],
            "text/plain": [
              "                                  review_description    variety  category_id\n",
              "1  This wine is near equal parts Syrah and Merlot...  Red Blend            1"
            ]
          },
          "metadata": {
            "tags": []
          },
          "execution_count": 15
        }
      ]
    },
    {
      "cell_type": "code",
      "metadata": {
        "id": "TmFb3FxeB_hp",
        "colab_type": "code",
        "colab": {
          "base_uri": "https://localhost:8080/",
          "height": 34
        },
        "outputId": "185c96e4-a1c7-4992-99a5-9563e3084a10"
      },
      "source": [
        "#PREDICTION 2\n",
        "print(clf.predict(count_vect.transform([\"Piercing on the nose, with toasty oak scents, mint and lemon along with standard blackberry and raspberry. Feels good and tight, with a structured composition and bright flavors of cherry, plum and toast. Turns chocolaty and a touch salty on the finish. A nice, stocky, lively wine.\"])))"
      ],
      "execution_count": 19,
      "outputs": [
        {
          "output_type": "stream",
          "text": [
            "['Malbec']\n"
          ],
          "name": "stdout"
        }
      ]
    },
    {
      "cell_type": "code",
      "metadata": {
        "id": "fxkja2kiB_ht",
        "colab_type": "code",
        "colab": {
          "base_uri": "https://localhost:8080/",
          "height": 80
        },
        "outputId": "c9305197-c0cd-44de-f22d-ade2ff5440b2"
      },
      "source": [
        "#CHECK 2\n",
        "df1[df1['review_description'] == \"Piercing on the nose, with toasty oak scents, mint and lemon along with standard blackberry and raspberry. Feels good and tight, with a structured composition and bright flavors of cherry, plum and toast. Turns chocolaty and a touch salty on the finish. A nice, stocky, lively wine.\"]"
      ],
      "execution_count": 20,
      "outputs": [
        {
          "output_type": "execute_result",
          "data": {
            "text/html": [
              "<div>\n",
              "<style scoped>\n",
              "    .dataframe tbody tr th:only-of-type {\n",
              "        vertical-align: middle;\n",
              "    }\n",
              "\n",
              "    .dataframe tbody tr th {\n",
              "        vertical-align: top;\n",
              "    }\n",
              "\n",
              "    .dataframe thead th {\n",
              "        text-align: right;\n",
              "    }\n",
              "</style>\n",
              "<table border=\"1\" class=\"dataframe\">\n",
              "  <thead>\n",
              "    <tr style=\"text-align: right;\">\n",
              "      <th></th>\n",
              "      <th>review_description</th>\n",
              "      <th>variety</th>\n",
              "      <th>category_id</th>\n",
              "    </tr>\n",
              "  </thead>\n",
              "  <tbody>\n",
              "    <tr>\n",
              "      <th>48022</th>\n",
              "      <td>Piercing on the nose, with toasty oak scents, ...</td>\n",
              "      <td>Malbec</td>\n",
              "      <td>4</td>\n",
              "    </tr>\n",
              "  </tbody>\n",
              "</table>\n",
              "</div>"
            ],
            "text/plain": [
              "                                      review_description variety  category_id\n",
              "48022  Piercing on the nose, with toasty oak scents, ...  Malbec            4"
            ]
          },
          "metadata": {
            "tags": []
          },
          "execution_count": 20
        }
      ]
    },
    {
      "cell_type": "code",
      "metadata": {
        "id": "M5LwRE5LB_hx",
        "colab_type": "code",
        "colab": {
          "base_uri": "https://localhost:8080/",
          "height": 280
        },
        "outputId": "4b8d428f-1fdc-4252-ea77-29c3c82b9e8a"
      },
      "source": [
        "# BENCHMARKING ON MULTIPLE MODELS\n",
        "# Logistic regression; Random Forest Classifier; Linear SupportVector Classifier; Naive Bayes (Multinomial)\n",
        "from sklearn.ensemble import RandomForestClassifier\n",
        "from sklearn.naive_bayes import MultinomialNB\n",
        "from sklearn.model_selection import cross_val_score\n",
        "models = [\n",
        "    RandomForestClassifier(n_estimators=200, max_depth=3, random_state=42),\n",
        "    LinearSVC(),\n",
        "    MultinomialNB()\n",
        "]\n",
        "CV = 5\n",
        "cv_df = pd.DataFrame(index=range(CV * len(models)))\n",
        "entries = []\n",
        "for model in models:\n",
        "  model_name = model.__class__.__name__\n",
        "  accuracies = cross_val_score(model, features, labels, scoring='accuracy', cv=CV)\n",
        "  for fold_idx, accuracy in enumerate(accuracies):\n",
        "    entries.append((model_name, fold_idx, accuracy))\n",
        "cv_df = pd.DataFrame(entries, columns=['model_name', 'fold_idx', 'accuracy'])\n",
        "sns.boxplot(x='model_name', y='accuracy', data=cv_df)\n",
        "sns.stripplot(x='model_name', y='accuracy', data=cv_df, \n",
        "              size=8, jitter=True, edgecolor=\"gray\", linewidth=2)\n",
        "plt.show()"
      ],
      "execution_count": 21,
      "outputs": [
        {
          "output_type": "display_data",
          "data": {
            "image/png": "[encoded data removed]",
            "text/plain": [
              "<Figure size 432x288 with 1 Axes>"
            ]
          },
          "metadata": {
            "tags": [],
            "needs_background": "light"
          }
        }
      ]
    },
    {
      "cell_type": "code",
      "metadata": {
        "id": "s_avQilsB_h2",
        "colab_type": "code",
        "colab": {
          "base_uri": "https://localhost:8080/",
          "height": 102
        },
        "outputId": "9a87fd26-1a7c-4eb1-fde1-76d923eb7b83"
      },
      "source": [
        "cv_df.groupby('model_name').accuracy.mean()"
      ],
      "execution_count": 22,
      "outputs": [
        {
          "output_type": "execute_result",
          "data": {
            "text/plain": [
              "model_name\n",
              "LinearSVC                 0.708228\n",
              "MultinomialNB             0.543547\n",
              "RandomForestClassifier    0.238274\n",
              "Name: accuracy, dtype: float64"
            ]
          },
          "metadata": {
            "tags": []
          },
          "execution_count": 22
        }
      ]
    },
    {
      "cell_type": "code",
      "metadata": {
        "id": "JPruB4CHB_h7",
        "colab_type": "code",
        "colab": {}
      },
      "source": [
        "#ASSUMING LINEARSVC GAVE THE BEST SCORE IN THE CELL ABOVE\n",
        "from sklearn.svm import LinearSVC\n",
        "model = LinearSVC() # RandomForestClassifier(n_estimator=200, max_depth=3, random_state=42) # MultinomialNB()\n",
        "X_train, X_test, y_train, y_test, indices_train, indices_test = train_test_split(features, labels, df1.index, test_size=0.33, random_state=0)\n",
        "model.fit(X_train, y_train)\n",
        "y_pred = model.predict(X_test)\n",
        "from sklearn.metrics import confusion_matrix\n",
        "conf_mat = confusion_matrix(y_test, y_pred)"
      ],
      "execution_count": 0,
      "outputs": []
    },
    {
      "cell_type": "code",
      "metadata": {
        "id": "xIf2saS9cHT2",
        "colab_type": "code",
        "colab": {
          "base_uri": "https://localhost:8080/",
          "height": 735
        },
        "outputId": "9748edd4-9200-471e-ed4a-4e90d8d22f17"
      },
      "source": [
        "fig, ax = plt.subplots(figsize=(10,10))\n",
        "sns.heatmap(conf_mat, annot=True, fmt='d', xticklabels=category_id_df.variety.values, yticklabels=category_id_df.variety.values)\n",
        "plt.ylabel('Actual')\n",
        "plt.xlabel('Predicted')\n",
        "plt.show()\n",
        "#The majority of predictions should be on the diagonals"
      ],
      "execution_count": 24,
      "outputs": [
        {
          "output_type": "display_data",
          "data": {
            "image/png": "[encoded data removed]",
            "text/plain": [
              "<Figure size 720x720 with 2 Axes>"
            ]
          },
          "metadata": {
            "tags": [],
            "needs_background": "light"
          }
        }
      ]
    },
    {
      "cell_type": "code",
      "metadata": {
        "id": "eSknelRfB_h_",
        "colab_type": "code",
        "colab": {}
      },
      "source": [
        "#Checking the discrepancies here, using confusion matrix for false positives.\n",
        "from IPython.display import display\n",
        "for predicted in category_id_df.category_id:\n",
        "  for actual in category_id_df.category_id:\n",
        "    if predicted != actual and conf_mat[actual, predicted] >= 10:\n",
        "      print(\"'{}' predicted as '{}' : {} examples.\".format(id_to_category[actual], id_to_category[predicted], conf_mat[actual, predicted]))\n",
        "      display(df1.loc[indices_test[(y_test == actual) & (y_pred == predicted)]][['variety', 'review_description']])\n",
        "      print('')"
      ],
      "execution_count": 0,
      "outputs": []
    },
    {
      "cell_type": "code",
      "metadata": {
        "id": "fQ_qxIkMB_iF",
        "colab_type": "code",
        "colab": {}
      },
      "source": [
        "#Not an important step. Just a cross-verification.\n",
        "model.fit(features, labels)\n",
        "N = 2\n",
        "for variety, category_id in sorted(category_to_id.items()):\n",
        "  indices = np.argsort(model.coef_[category_id])\n",
        "  feature_names = np.array(tfidf.get_feature_names())[indices]\n",
        "  unigrams = [v for v in reversed(feature_names) if len(v.split(' ')) == 1][:N]\n",
        "  bigrams = [v for v in reversed(feature_names) if len(v.split(' ')) == 2][:N]\n",
        "  print(\"# '{}':\".format(variety))\n",
        "  print(\"  . Top unigrams:\\n       . {}\".format('\\n       . '.join(unigrams)))\n",
        "  print(\"  . Top bigrams:\\n       . {}\".format('\\n       . '.join(bigrams)))"
      ],
      "execution_count": 0,
      "outputs": []
    },
    {
      "cell_type": "code",
      "metadata": {
        "id": "AwB3mzMbB_iI",
        "colab_type": "code",
        "colab": {
          "base_uri": "https://localhost:8080/",
          "height": 612
        },
        "outputId": "219c1871-761f-4e32-84b2-615a6611c135"
      },
      "source": [
        "#SCORE-SHEET FOR EACH VARIETY\n",
        "from sklearn import metrics\n",
        "print(metrics.classification_report(y_test, y_pred, target_names=df1['variety'].unique()))"
      ],
      "execution_count": 25,
      "outputs": [
        {
          "output_type": "stream",
          "text": [
            "                            precision    recall  f1-score   support\n",
            "\n",
            "                Chardonnay       0.74      0.87      0.80      3151\n",
            "                 Red Blend       0.69      0.64      0.67      2416\n",
            "                  Nebbiolo       0.78      0.82      0.80       725\n",
            "Bordeaux-style White Blend       0.65      0.49      0.56       267\n",
            "                    Malbec       0.58      0.50      0.54       716\n",
            "        Cabernet Sauvignon       0.65      0.71      0.68      2502\n",
            "                 Zinfandel       0.66      0.64      0.65       684\n",
            "                Pinot Noir       0.73      0.84      0.78      3476\n",
            "           Sauvignon Blanc       0.68      0.70      0.69      1281\n",
            "                     Gamay       0.73      0.56      0.63       262\n",
            "          Grüner Veltliner       0.78      0.70      0.74       359\n",
            "  Bordeaux-style Red Blend       0.68      0.77      0.73      1766\n",
            "                Sangiovese       0.65      0.56      0.60       732\n",
            "                     Syrah       0.64      0.61      0.62      1094\n",
            "               White Blend       0.78      0.59      0.67       655\n",
            "            Cabernet Franc       0.63      0.33      0.44       348\n",
            "            Portuguese Red       0.65      0.63      0.64       649\n",
            "          Portuguese White       0.67      0.51      0.58       306\n",
            "     Rhône-style Red Blend       0.71      0.57      0.63       380\n",
            "                      Rosé       0.71      0.75      0.73       924\n",
            "           Champagne Blend       0.81      0.50      0.62       381\n",
            "                    Merlot       0.58      0.45      0.50       804\n",
            "                  Riesling       0.81      0.84      0.83      1365\n",
            "           Sparkling Blend       0.74      0.69      0.72       569\n",
            "              Pinot Grigio       0.71      0.52      0.60       291\n",
            "               Tempranillo       0.50      0.44      0.47       469\n",
            "                Pinot Gris       0.73      0.51      0.60       421\n",
            "            Gewürztraminer       0.73      0.66      0.70       284\n",
            "\n",
            "                  accuracy                           0.70     27277\n",
            "                 macro avg       0.69      0.62      0.65     27277\n",
            "              weighted avg       0.70      0.70      0.69     27277\n",
            "\n"
          ],
          "name": "stdout"
        }
      ]
    },
    {
      "cell_type": "code",
      "metadata": {
        "id": "GE-BKGrFp3nz",
        "colab_type": "code",
        "colab": {
          "resources": {
            "http://localhost:8080/nbextensions/google.colab/files.js": {
              "data": "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",
              "ok": true,
              "headers": [
                [
                  "content-type",
                  "application/javascript"
                ]
              ],
              "status": 200,
              "status_text": ""
            }
          },
          "base_uri": "https://localhost:8080/",
          "height": 363
        },
        "outputId": "71af5bb2-21ba-44b2-e03d-197b3962c8c4"
      },
      "source": [
        "from google.colab import files\n",
        "uploaded = files.upload()\n",
        "import io\n",
        "test = pd.read_csv(io.BytesIO(uploaded['test.csv']))\n",
        "test.head()"
      ],
      "execution_count": 26,
      "outputs": [
        {
          "output_type": "display_data",
          "data": {
            "text/html": [
              "\n",
              "     <input type=\"file\" id=\"files-d0bf014c-aae3-4a1c-943f-da757964fc62\" name=\"files[]\" multiple disabled />\n",
              "     <output id=\"result-d0bf014c-aae3-4a1c-943f-da757964fc62\">\n",
              "      Upload widget is only available when the cell has been executed in the\n",
              "      current browser session. Please rerun this cell to enable.\n",
              "      </output>\n",
              "      <script src=\"/nbextensions/google.colab/files.js\"></script> "
            ],
            "text/plain": [
              "<IPython.core.display.HTML object>"
            ]
          },
          "metadata": {
            "tags": []
          }
        },
        {
          "output_type": "stream",
          "text": [
            "Saving test.csv to test (3).csv\n"
          ],
          "name": "stdout"
        },
        {
          "output_type": "execute_result",
          "data": {
            "text/html": [
              "<div>\n",
              "<style scoped>\n",
              "    .dataframe tbody tr th:only-of-type {\n",
              "        vertical-align: middle;\n",
              "    }\n",
              "\n",
              "    .dataframe tbody tr th {\n",
              "        vertical-align: top;\n",
              "    }\n",
              "\n",
              "    .dataframe thead th {\n",
              "        text-align: right;\n",
              "    }\n",
              "</style>\n",
              "<table border=\"1\" class=\"dataframe\">\n",
              "  <thead>\n",
              "    <tr style=\"text-align: right;\">\n",
              "      <th></th>\n",
              "      <th>user_name</th>\n",
              "      <th>country</th>\n",
              "      <th>review_title</th>\n",
              "      <th>review_description</th>\n",
              "      <th>designation</th>\n",
              "      <th>points</th>\n",
              "      <th>price</th>\n",
              "      <th>province</th>\n",
              "      <th>region_1</th>\n",
              "      <th>region_2</th>\n",
              "      <th>winery</th>\n",
              "    </tr>\n",
              "  </thead>\n",
              "  <tbody>\n",
              "    <tr>\n",
              "      <th>0</th>\n",
              "      <td>@paulgwine</td>\n",
              "      <td>US</td>\n",
              "      <td>Boedecker Cellars 2011 Athena Pinot Noir (Will...</td>\n",
              "      <td>Nicely differentiated from the companion Stewa...</td>\n",
              "      <td>Athena</td>\n",
              "      <td>88</td>\n",
              "      <td>35.0</td>\n",
              "      <td>Oregon</td>\n",
              "      <td>Willamette Valley</td>\n",
              "      <td>Willamette Valley</td>\n",
              "      <td>Boedecker Cellars</td>\n",
              "    </tr>\n",
              "    <tr>\n",
              "      <th>1</th>\n",
              "      <td>@wineschach</td>\n",
              "      <td>Argentina</td>\n",
              "      <td>Mendoza Vineyards 2012 Gran Reserva by Richard...</td>\n",
              "      <td>Charred, smoky, herbal aromas of blackberry tr...</td>\n",
              "      <td>Gran Reserva by Richard Bonvin</td>\n",
              "      <td>90</td>\n",
              "      <td>60.0</td>\n",
              "      <td>Mendoza Province</td>\n",
              "      <td>Mendoza</td>\n",
              "      <td>NaN</td>\n",
              "      <td>Mendoza Vineyards</td>\n",
              "    </tr>\n",
              "    <tr>\n",
              "      <th>2</th>\n",
              "      <td>@vboone</td>\n",
              "      <td>US</td>\n",
              "      <td>Prime 2013 Chardonnay (Coombsville)</td>\n",
              "      <td>Slightly sour and funky in earth, this is a re...</td>\n",
              "      <td>NaN</td>\n",
              "      <td>87</td>\n",
              "      <td>38.0</td>\n",
              "      <td>California</td>\n",
              "      <td>Coombsville</td>\n",
              "      <td>Napa</td>\n",
              "      <td>Prime</td>\n",
              "    </tr>\n",
              "    <tr>\n",
              "      <th>3</th>\n",
              "      <td>@wineschach</td>\n",
              "      <td>Argentina</td>\n",
              "      <td>Bodega Cuarto Dominio 2012 Chento Vineyard Sel...</td>\n",
              "      <td>This concentrated, midnight-black Malbec deliv...</td>\n",
              "      <td>Chento Vineyard Selection</td>\n",
              "      <td>91</td>\n",
              "      <td>20.0</td>\n",
              "      <td>Mendoza Province</td>\n",
              "      <td>Mendoza</td>\n",
              "      <td>NaN</td>\n",
              "      <td>Bodega Cuarto Dominio</td>\n",
              "    </tr>\n",
              "    <tr>\n",
              "      <th>4</th>\n",
              "      <td>@kerinokeefe</td>\n",
              "      <td>Italy</td>\n",
              "      <td>SassodiSole 2012  Brunello di Montalcino</td>\n",
              "      <td>Earthy aromas suggesting grilled porcini, leat...</td>\n",
              "      <td>NaN</td>\n",
              "      <td>90</td>\n",
              "      <td>49.0</td>\n",
              "      <td>Tuscany</td>\n",
              "      <td>Brunello di Montalcino</td>\n",
              "      <td>NaN</td>\n",
              "      <td>SassodiSole</td>\n",
              "    </tr>\n",
              "  </tbody>\n",
              "</table>\n",
              "</div>"
            ],
            "text/plain": [
              "      user_name    country  ...           region_2                 winery\n",
              "0   @paulgwine          US  ...  Willamette Valley      Boedecker Cellars\n",
              "1   @wineschach  Argentina  ...                NaN      Mendoza Vineyards\n",
              "2       @vboone         US  ...               Napa                  Prime\n",
              "3   @wineschach  Argentina  ...                NaN  Bodega Cuarto Dominio\n",
              "4  @kerinokeefe      Italy  ...                NaN            SassodiSole\n",
              "\n",
              "[5 rows x 11 columns]"
            ]
          },
          "metadata": {
            "tags": []
          },
          "execution_count": 26
        }
      ]
    },
    {
      "cell_type": "code",
      "metadata": {
        "id": "pg4zVYkmwr_P",
        "colab_type": "code",
        "colab": {
          "base_uri": "https://localhost:8080/",
          "height": 419
        },
        "outputId": "9ca9edda-b03a-4305-8f8b-2b770f80111c"
      },
      "source": [
        "#PREDICTIONS\n",
        "predlist = pd.Series(clf.predict(count_vect.transform(test['review_description'])), name='pred_variety' )\n",
        "predlist = predlist.to_frame()\n",
        "predlist"
      ],
      "execution_count": 27,
      "outputs": [
        {
          "output_type": "execute_result",
          "data": {
            "text/html": [
              "<div>\n",
              "<style scoped>\n",
              "    .dataframe tbody tr th:only-of-type {\n",
              "        vertical-align: middle;\n",
              "    }\n",
              "\n",
              "    .dataframe tbody tr th {\n",
              "        vertical-align: top;\n",
              "    }\n",
              "\n",
              "    .dataframe thead th {\n",
              "        text-align: right;\n",
              "    }\n",
              "</style>\n",
              "<table border=\"1\" class=\"dataframe\">\n",
              "  <thead>\n",
              "    <tr style=\"text-align: right;\">\n",
              "      <th></th>\n",
              "      <th>pred_variety</th>\n",
              "    </tr>\n",
              "  </thead>\n",
              "  <tbody>\n",
              "    <tr>\n",
              "      <th>0</th>\n",
              "      <td>Pinot Noir</td>\n",
              "    </tr>\n",
              "    <tr>\n",
              "      <th>1</th>\n",
              "      <td>Malbec</td>\n",
              "    </tr>\n",
              "    <tr>\n",
              "      <th>2</th>\n",
              "      <td>Chardonnay</td>\n",
              "    </tr>\n",
              "    <tr>\n",
              "      <th>3</th>\n",
              "      <td>Malbec</td>\n",
              "    </tr>\n",
              "    <tr>\n",
              "      <th>4</th>\n",
              "      <td>Sangiovese</td>\n",
              "    </tr>\n",
              "    <tr>\n",
              "      <th>...</th>\n",
              "      <td>...</td>\n",
              "    </tr>\n",
              "    <tr>\n",
              "      <th>20660</th>\n",
              "      <td>Red Blend</td>\n",
              "    </tr>\n",
              "    <tr>\n",
              "      <th>20661</th>\n",
              "      <td>Rosé</td>\n",
              "    </tr>\n",
              "    <tr>\n",
              "      <th>20662</th>\n",
              "      <td>Cabernet Sauvignon</td>\n",
              "    </tr>\n",
              "    <tr>\n",
              "      <th>20663</th>\n",
              "      <td>Tempranillo</td>\n",
              "    </tr>\n",
              "    <tr>\n",
              "      <th>20664</th>\n",
              "      <td>Cabernet Sauvignon</td>\n",
              "    </tr>\n",
              "  </tbody>\n",
              "</table>\n",
              "<p>20665 rows × 1 columns</p>\n",
              "</div>"
            ],
            "text/plain": [
              "             pred_variety\n",
              "0              Pinot Noir\n",
              "1                  Malbec\n",
              "2              Chardonnay\n",
              "3                  Malbec\n",
              "4              Sangiovese\n",
              "...                   ...\n",
              "20660           Red Blend\n",
              "20661                Rosé\n",
              "20662  Cabernet Sauvignon\n",
              "20663         Tempranillo\n",
              "20664  Cabernet Sauvignon\n",
              "\n",
              "[20665 rows x 1 columns]"
            ]
          },
          "metadata": {
            "tags": []
          },
          "execution_count": 27
        }
      ]
    },
    {
      "cell_type": "code",
      "metadata": {
        "id": "XMOVCgFMxoVC",
        "colab_type": "code",
        "colab": {
          "base_uri": "https://localhost:8080/",
          "height": 640
        },
        "outputId": "8a5dd91d-0e86-43d2-e638-f816eb03635d"
      },
      "source": [
        "testfile = test.copy()\n",
        "testfile"
      ],
      "execution_count": 28,
      "outputs": [
        {
          "output_type": "execute_result",
          "data": {
            "text/html": [
              "<div>\n",
              "<style scoped>\n",
              "    .dataframe tbody tr th:only-of-type {\n",
              "        vertical-align: middle;\n",
              "    }\n",
              "\n",
              "    .dataframe tbody tr th {\n",
              "        vertical-align: top;\n",
              "    }\n",
              "\n",
              "    .dataframe thead th {\n",
              "        text-align: right;\n",
              "    }\n",
              "</style>\n",
              "<table border=\"1\" class=\"dataframe\">\n",
              "  <thead>\n",
              "    <tr style=\"text-align: right;\">\n",
              "      <th></th>\n",
              "      <th>user_name</th>\n",
              "      <th>country</th>\n",
              "      <th>review_title</th>\n",
              "      <th>review_description</th>\n",
              "      <th>designation</th>\n",
              "      <th>points</th>\n",
              "      <th>price</th>\n",
              "      <th>province</th>\n",
              "      <th>region_1</th>\n",
              "      <th>region_2</th>\n",
              "      <th>winery</th>\n",
              "    </tr>\n",
              "  </thead>\n",
              "  <tbody>\n",
              "    <tr>\n",
              "      <th>0</th>\n",
              "      <td>@paulgwine</td>\n",
              "      <td>US</td>\n",
              "      <td>Boedecker Cellars 2011 Athena Pinot Noir (Will...</td>\n",
              "      <td>Nicely differentiated from the companion Stewa...</td>\n",
              "      <td>Athena</td>\n",
              "      <td>88</td>\n",
              "      <td>35.0</td>\n",
              "      <td>Oregon</td>\n",
              "      <td>Willamette Valley</td>\n",
              "      <td>Willamette Valley</td>\n",
              "      <td>Boedecker Cellars</td>\n",
              "    </tr>\n",
              "    <tr>\n",
              "      <th>1</th>\n",
              "      <td>@wineschach</td>\n",
              "      <td>Argentina</td>\n",
              "      <td>Mendoza Vineyards 2012 Gran Reserva by Richard...</td>\n",
              "      <td>Charred, smoky, herbal aromas of blackberry tr...</td>\n",
              "      <td>Gran Reserva by Richard Bonvin</td>\n",
              "      <td>90</td>\n",
              "      <td>60.0</td>\n",
              "      <td>Mendoza Province</td>\n",
              "      <td>Mendoza</td>\n",
              "      <td>NaN</td>\n",
              "      <td>Mendoza Vineyards</td>\n",
              "    </tr>\n",
              "    <tr>\n",
              "      <th>2</th>\n",
              "      <td>@vboone</td>\n",
              "      <td>US</td>\n",
              "      <td>Prime 2013 Chardonnay (Coombsville)</td>\n",
              "      <td>Slightly sour and funky in earth, this is a re...</td>\n",
              "      <td>NaN</td>\n",
              "      <td>87</td>\n",
              "      <td>38.0</td>\n",
              "      <td>California</td>\n",
              "      <td>Coombsville</td>\n",
              "      <td>Napa</td>\n",
              "      <td>Prime</td>\n",
              "    </tr>\n",
              "    <tr>\n",
              "      <th>3</th>\n",
              "      <td>@wineschach</td>\n",
              "      <td>Argentina</td>\n",
              "      <td>Bodega Cuarto Dominio 2012 Chento Vineyard Sel...</td>\n",
              "      <td>This concentrated, midnight-black Malbec deliv...</td>\n",
              "      <td>Chento Vineyard Selection</td>\n",
              "      <td>91</td>\n",
              "      <td>20.0</td>\n",
              "      <td>Mendoza Province</td>\n",
              "      <td>Mendoza</td>\n",
              "      <td>NaN</td>\n",
              "      <td>Bodega Cuarto Dominio</td>\n",
              "    </tr>\n",
              "    <tr>\n",
              "      <th>4</th>\n",
              "      <td>@kerinokeefe</td>\n",
              "      <td>Italy</td>\n",
              "      <td>SassodiSole 2012  Brunello di Montalcino</td>\n",
              "      <td>Earthy aromas suggesting grilled porcini, leat...</td>\n",
              "      <td>NaN</td>\n",
              "      <td>90</td>\n",
              "      <td>49.0</td>\n",
              "      <td>Tuscany</td>\n",
              "      <td>Brunello di Montalcino</td>\n",
              "      <td>NaN</td>\n",
              "      <td>SassodiSole</td>\n",
              "    </tr>\n",
              "    <tr>\n",
              "      <th>...</th>\n",
              "      <td>...</td>\n",
              "      <td>...</td>\n",
              "      <td>...</td>\n",
              "      <td>...</td>\n",
              "      <td>...</td>\n",
              "      <td>...</td>\n",
              "      <td>...</td>\n",
              "      <td>...</td>\n",
              "      <td>...</td>\n",
              "      <td>...</td>\n",
              "      <td>...</td>\n",
              "    </tr>\n",
              "    <tr>\n",
              "      <th>20660</th>\n",
              "      <td>@gordone_cellars</td>\n",
              "      <td>US</td>\n",
              "      <td>Yorkville Cellars 2013 Rennie Vineyard Caberne...</td>\n",
              "      <td>Clearly focused and fruit-driven, this wine ha...</td>\n",
              "      <td>Rennie Vineyard</td>\n",
              "      <td>91</td>\n",
              "      <td>34.0</td>\n",
              "      <td>California</td>\n",
              "      <td>Yorkville Highlands</td>\n",
              "      <td>North Coast</td>\n",
              "      <td>Yorkville Cellars</td>\n",
              "    </tr>\n",
              "    <tr>\n",
              "      <th>20661</th>\n",
              "      <td>@laurbuzz</td>\n",
              "      <td>France</td>\n",
              "      <td>Château Ribaute 2015 Senhal d'Aric Rosé (Corbi...</td>\n",
              "      <td>Herbal tones of bay and rosemary are upfront o...</td>\n",
              "      <td>Senhal d'Aric</td>\n",
              "      <td>84</td>\n",
              "      <td>20.0</td>\n",
              "      <td>Languedoc-Roussillon</td>\n",
              "      <td>Corbières</td>\n",
              "      <td>NaN</td>\n",
              "      <td>Château Ribaute</td>\n",
              "    </tr>\n",
              "    <tr>\n",
              "      <th>20662</th>\n",
              "      <td>@mattkettmann</td>\n",
              "      <td>US</td>\n",
              "      <td>Daou 2014 Reserve Cabernet Sauvignon (Paso Rob...</td>\n",
              "      <td>Mocha cream, pencil shaving and dried herb aro...</td>\n",
              "      <td>Reserve</td>\n",
              "      <td>94</td>\n",
              "      <td>85.0</td>\n",
              "      <td>California</td>\n",
              "      <td>Paso Robles</td>\n",
              "      <td>Central Coast</td>\n",
              "      <td>Daou</td>\n",
              "    </tr>\n",
              "    <tr>\n",
              "      <th>20663</th>\n",
              "      <td>@wineschach</td>\n",
              "      <td>Spain</td>\n",
              "      <td>Peñascal 2011 Tempranillo Rosé (Vino de la Tie...</td>\n",
              "      <td>Loud citrus and berry aromas precede an overlo...</td>\n",
              "      <td>Tempranillo</td>\n",
              "      <td>80</td>\n",
              "      <td>9.0</td>\n",
              "      <td>Northern Spain</td>\n",
              "      <td>Vino de la Tierra de Castilla y León</td>\n",
              "      <td>NaN</td>\n",
              "      <td>Peñascal</td>\n",
              "    </tr>\n",
              "    <tr>\n",
              "      <th>20664</th>\n",
              "      <td>NaN</td>\n",
              "      <td>US</td>\n",
              "      <td>Langtry 2005 Tephra Ridge Vineyard Cabernet Sa...</td>\n",
              "      <td>With very ripe fruit and firm tannins, this mo...</td>\n",
              "      <td>Tephra Ridge Vineyard</td>\n",
              "      <td>87</td>\n",
              "      <td>40.0</td>\n",
              "      <td>California</td>\n",
              "      <td>Lake County</td>\n",
              "      <td>NaN</td>\n",
              "      <td>Langtry</td>\n",
              "    </tr>\n",
              "  </tbody>\n",
              "</table>\n",
              "<p>20665 rows × 11 columns</p>\n",
              "</div>"
            ],
            "text/plain": [
              "              user_name    country  ...           region_2                 winery\n",
              "0           @paulgwine          US  ...  Willamette Valley      Boedecker Cellars\n",
              "1           @wineschach  Argentina  ...                NaN      Mendoza Vineyards\n",
              "2               @vboone         US  ...               Napa                  Prime\n",
              "3           @wineschach  Argentina  ...                NaN  Bodega Cuarto Dominio\n",
              "4          @kerinokeefe      Italy  ...                NaN            SassodiSole\n",
              "...                 ...        ...  ...                ...                    ...\n",
              "20660  @gordone_cellars         US  ...        North Coast      Yorkville Cellars\n",
              "20661         @laurbuzz     France  ...                NaN        Château Ribaute\n",
              "20662     @mattkettmann         US  ...      Central Coast                   Daou\n",
              "20663       @wineschach      Spain  ...                NaN               Peñascal\n",
              "20664               NaN         US  ...                NaN                Langtry\n",
              "\n",
              "[20665 rows x 11 columns]"
            ]
          },
          "metadata": {
            "tags": []
          },
          "execution_count": 28
        }
      ]
    },
    {
      "cell_type": "code",
      "metadata": {
        "id": "VrsOrGDYyk5_",
        "colab_type": "code",
        "colab": {}
      },
      "source": [
        "#testfile.concat(predlist, ignore_index=True, sort=True)\n",
        "result = pd.concat([testfile, predlist], axis=1)"
      ],
      "execution_count": 0,
      "outputs": []
    },
    {
      "cell_type": "code",
      "metadata": {
        "id": "xdkkE-A6Rf5M",
        "colab_type": "code",
        "colab": {
          "base_uri": "https://localhost:8080/",
          "height": 844
        },
        "outputId": "88802026-ce63-40cc-9195-a92441d3dced"
      },
      "source": [
        "result"
      ],
      "execution_count": 30,
      "outputs": [
        {
          "output_type": "execute_result",
          "data": {
            "text/html": [
              "<div>\n",
              "<style scoped>\n",
              "    .dataframe tbody tr th:only-of-type {\n",
              "        vertical-align: middle;\n",
              "    }\n",
              "\n",
              "    .dataframe tbody tr th {\n",
              "        vertical-align: top;\n",
              "    }\n",
              "\n",
              "    .dataframe thead th {\n",
              "        text-align: right;\n",
              "    }\n",
              "</style>\n",
              "<table border=\"1\" class=\"dataframe\">\n",
              "  <thead>\n",
              "    <tr style=\"text-align: right;\">\n",
              "      <th></th>\n",
              "      <th>user_name</th>\n",
              "      <th>country</th>\n",
              "      <th>review_title</th>\n",
              "      <th>review_description</th>\n",
              "      <th>designation</th>\n",
              "      <th>points</th>\n",
              "      <th>price</th>\n",
              "      <th>province</th>\n",
              "      <th>region_1</th>\n",
              "      <th>region_2</th>\n",
              "      <th>winery</th>\n",
              "      <th>pred_variety</th>\n",
              "    </tr>\n",
              "  </thead>\n",
              "  <tbody>\n",
              "    <tr>\n",
              "      <th>0</th>\n",
              "      <td>@paulgwine</td>\n",
              "      <td>US</td>\n",
              "      <td>Boedecker Cellars 2011 Athena Pinot Noir (Will...</td>\n",
              "      <td>Nicely differentiated from the companion Stewa...</td>\n",
              "      <td>Athena</td>\n",
              "      <td>88</td>\n",
              "      <td>35.0</td>\n",
              "      <td>Oregon</td>\n",
              "      <td>Willamette Valley</td>\n",
              "      <td>Willamette Valley</td>\n",
              "      <td>Boedecker Cellars</td>\n",
              "      <td>Pinot Noir</td>\n",
              "    </tr>\n",
              "    <tr>\n",
              "      <th>1</th>\n",
              "      <td>@wineschach</td>\n",
              "      <td>Argentina</td>\n",
              "      <td>Mendoza Vineyards 2012 Gran Reserva by Richard...</td>\n",
              "      <td>Charred, smoky, herbal aromas of blackberry tr...</td>\n",
              "      <td>Gran Reserva by Richard Bonvin</td>\n",
              "      <td>90</td>\n",
              "      <td>60.0</td>\n",
              "      <td>Mendoza Province</td>\n",
              "      <td>Mendoza</td>\n",
              "      <td>NaN</td>\n",
              "      <td>Mendoza Vineyards</td>\n",
              "      <td>Malbec</td>\n",
              "    </tr>\n",
              "    <tr>\n",
              "      <th>2</th>\n",
              "      <td>@vboone</td>\n",
              "      <td>US</td>\n",
              "      <td>Prime 2013 Chardonnay (Coombsville)</td>\n",
              "      <td>Slightly sour and funky in earth, this is a re...</td>\n",
              "      <td>NaN</td>\n",
              "      <td>87</td>\n",
              "      <td>38.0</td>\n",
              "      <td>California</td>\n",
              "      <td>Coombsville</td>\n",
              "      <td>Napa</td>\n",
              "      <td>Prime</td>\n",
              "      <td>Chardonnay</td>\n",
              "    </tr>\n",
              "    <tr>\n",
              "      <th>3</th>\n",
              "      <td>@wineschach</td>\n",
              "      <td>Argentina</td>\n",
              "      <td>Bodega Cuarto Dominio 2012 Chento Vineyard Sel...</td>\n",
              "      <td>This concentrated, midnight-black Malbec deliv...</td>\n",
              "      <td>Chento Vineyard Selection</td>\n",
              "      <td>91</td>\n",
              "      <td>20.0</td>\n",
              "      <td>Mendoza Province</td>\n",
              "      <td>Mendoza</td>\n",
              "      <td>NaN</td>\n",
              "      <td>Bodega Cuarto Dominio</td>\n",
              "      <td>Malbec</td>\n",
              "    </tr>\n",
              "    <tr>\n",
              "      <th>4</th>\n",
              "      <td>@kerinokeefe</td>\n",
              "      <td>Italy</td>\n",
              "      <td>SassodiSole 2012  Brunello di Montalcino</td>\n",
              "      <td>Earthy aromas suggesting grilled porcini, leat...</td>\n",
              "      <td>NaN</td>\n",
              "      <td>90</td>\n",
              "      <td>49.0</td>\n",
              "      <td>Tuscany</td>\n",
              "      <td>Brunello di Montalcino</td>\n",
              "      <td>NaN</td>\n",
              "      <td>SassodiSole</td>\n",
              "      <td>Sangiovese</td>\n",
              "    </tr>\n",
              "    <tr>\n",
              "      <th>...</th>\n",
              "      <td>...</td>\n",
              "      <td>...</td>\n",
              "      <td>...</td>\n",
              "      <td>...</td>\n",
              "      <td>...</td>\n",
              "      <td>...</td>\n",
              "      <td>...</td>\n",
              "      <td>...</td>\n",
              "      <td>...</td>\n",
              "      <td>...</td>\n",
              "      <td>...</td>\n",
              "      <td>...</td>\n",
              "    </tr>\n",
              "    <tr>\n",
              "      <th>20660</th>\n",
              "      <td>@gordone_cellars</td>\n",
              "      <td>US</td>\n",
              "      <td>Yorkville Cellars 2013 Rennie Vineyard Caberne...</td>\n",
              "      <td>Clearly focused and fruit-driven, this wine ha...</td>\n",
              "      <td>Rennie Vineyard</td>\n",
              "      <td>91</td>\n",
              "      <td>34.0</td>\n",
              "      <td>California</td>\n",
              "      <td>Yorkville Highlands</td>\n",
              "      <td>North Coast</td>\n",
              "      <td>Yorkville Cellars</td>\n",
              "      <td>Red Blend</td>\n",
              "    </tr>\n",
              "    <tr>\n",
              "      <th>20661</th>\n",
              "      <td>@laurbuzz</td>\n",
              "      <td>France</td>\n",
              "      <td>Château Ribaute 2015 Senhal d'Aric Rosé (Corbi...</td>\n",
              "      <td>Herbal tones of bay and rosemary are upfront o...</td>\n",
              "      <td>Senhal d'Aric</td>\n",
              "      <td>84</td>\n",
              "      <td>20.0</td>\n",
              "      <td>Languedoc-Roussillon</td>\n",
              "      <td>Corbières</td>\n",
              "      <td>NaN</td>\n",
              "      <td>Château Ribaute</td>\n",
              "      <td>Rosé</td>\n",
              "    </tr>\n",
              "    <tr>\n",
              "      <th>20662</th>\n",
              "      <td>@mattkettmann</td>\n",
              "      <td>US</td>\n",
              "      <td>Daou 2014 Reserve Cabernet Sauvignon (Paso Rob...</td>\n",
              "      <td>Mocha cream, pencil shaving and dried herb aro...</td>\n",
              "      <td>Reserve</td>\n",
              "      <td>94</td>\n",
              "      <td>85.0</td>\n",
              "      <td>California</td>\n",
              "      <td>Paso Robles</td>\n",
              "      <td>Central Coast</td>\n",
              "      <td>Daou</td>\n",
              "      <td>Cabernet Sauvignon</td>\n",
              "    </tr>\n",
              "    <tr>\n",
              "      <th>20663</th>\n",
              "      <td>@wineschach</td>\n",
              "      <td>Spain</td>\n",
              "      <td>Peñascal 2011 Tempranillo Rosé (Vino de la Tie...</td>\n",
              "      <td>Loud citrus and berry aromas precede an overlo...</td>\n",
              "      <td>Tempranillo</td>\n",
              "      <td>80</td>\n",
              "      <td>9.0</td>\n",
              "      <td>Northern Spain</td>\n",
              "      <td>Vino de la Tierra de Castilla y León</td>\n",
              "      <td>NaN</td>\n",
              "      <td>Peñascal</td>\n",
              "      <td>Tempranillo</td>\n",
              "    </tr>\n",
              "    <tr>\n",
              "      <th>20664</th>\n",
              "      <td>NaN</td>\n",
              "      <td>US</td>\n",
              "      <td>Langtry 2005 Tephra Ridge Vineyard Cabernet Sa...</td>\n",
              "      <td>With very ripe fruit and firm tannins, this mo...</td>\n",
              "      <td>Tephra Ridge Vineyard</td>\n",
              "      <td>87</td>\n",
              "      <td>40.0</td>\n",
              "      <td>California</td>\n",
              "      <td>Lake County</td>\n",
              "      <td>NaN</td>\n",
              "      <td>Langtry</td>\n",
              "      <td>Cabernet Sauvignon</td>\n",
              "    </tr>\n",
              "  </tbody>\n",
              "</table>\n",
              "<p>20665 rows × 12 columns</p>\n",
              "</div>"
            ],
            "text/plain": [
              "              user_name    country  ...                 winery        pred_variety\n",
              "0           @paulgwine          US  ...      Boedecker Cellars          Pinot Noir\n",
              "1           @wineschach  Argentina  ...      Mendoza Vineyards              Malbec\n",
              "2               @vboone         US  ...                  Prime          Chardonnay\n",
              "3           @wineschach  Argentina  ...  Bodega Cuarto Dominio              Malbec\n",
              "4          @kerinokeefe      Italy  ...            SassodiSole          Sangiovese\n",
              "...                 ...        ...  ...                    ...                 ...\n",
              "20660  @gordone_cellars         US  ...      Yorkville Cellars           Red Blend\n",
              "20661         @laurbuzz     France  ...        Château Ribaute                Rosé\n",
              "20662     @mattkettmann         US  ...                   Daou  Cabernet Sauvignon\n",
              "20663       @wineschach      Spain  ...               Peñascal         Tempranillo\n",
              "20664               NaN         US  ...                Langtry  Cabernet Sauvignon\n",
              "\n",
              "[20665 rows x 12 columns]"
            ]
          },
          "metadata": {
            "tags": []
          },
          "execution_count": 30
        }
      ]
    },
    {
      "cell_type": "code",
      "metadata": {
        "id": "w8Uz-NgHq9Iv",
        "colab_type": "code",
        "colab": {}
      },
      "source": [
        "from google.colab import files\n",
        "result.to_csv('predictions.csv') \n",
        "files.download('predictions.csv')"
      ],
      "execution_count": 0,
      "outputs": []
    }
  ]
}